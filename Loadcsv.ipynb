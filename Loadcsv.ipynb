{
 "cells": [
  {
   "cell_type": "code",
   "execution_count": 5,
   "id": "c59fa3cc-4d8f-47f6-9fe0-3568b54679b9",
   "metadata": {},
   "outputs": [],
   "source": [
    "import pandas as pd"
   ]
  },
  {
   "cell_type": "code",
   "execution_count": 8,
   "id": "0dd70a3c-b9cb-42b4-91ef-5c96fbd17643",
   "metadata": {},
   "outputs": [],
   "source": [
    "df=pd.read_csv(\"StudentList.csv\")"
   ]
  },
  {
   "cell_type": "code",
   "execution_count": 9,
   "id": "61baa716-391a-43e4-b580-86a5417ac50b",
   "metadata": {},
   "outputs": [
    {
     "name": "stdout",
     "output_type": "stream",
     "text": [
      "  Name              Department            Subject      Marks        \n",
      "0  AnitaSharma        CSE   Data Structures      ...                \n",
      "1  RahulVerma         ECE         Digital Circuit...                \n",
      "2  PriyaMenon         MECH          Thermodynamic...                \n",
      "3  Suresh Kumar       CSE    Operating Systems   ...                \n",
      "4  Nandhini Rao       ECE       Signals and Syste...                \n"
     ]
    }
   ],
   "source": [
    "print(df.head())"
   ]
  },
  {
   "cell_type": "code",
   "execution_count": null,
   "id": "ebda02cf-7bf4-4dde-a10b-fdbdd90e612d",
   "metadata": {},
   "outputs": [],
   "source": []
  }
 ],
 "metadata": {
  "kernelspec": {
   "display_name": "anaconda-panel-2023.05-py310",
   "language": "python",
   "name": "conda-env-anaconda-panel-2023.05-py310-py"
  },
  "language_info": {
   "codemirror_mode": {
    "name": "ipython",
    "version": 3
   },
   "file_extension": ".py",
   "mimetype": "text/x-python",
   "name": "python",
   "nbconvert_exporter": "python",
   "pygments_lexer": "ipython3",
   "version": "3.11.5"
  }
 },
 "nbformat": 4,
 "nbformat_minor": 5
}
