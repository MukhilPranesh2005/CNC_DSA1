{
 "cells": [
  {
   "cell_type": "code",
   "execution_count": 1,
   "id": "8c8f327c-beb8-4a48-9603-b9071269faa9",
   "metadata": {},
   "outputs": [],
   "source": [
    "import pandas as pd"
   ]
  },
  {
   "cell_type": "code",
   "execution_count": 2,
   "id": "70613626-426a-4ed2-ba9b-df2d2e105de7",
   "metadata": {},
   "outputs": [],
   "source": [
    "df = pd.read_csv(\"StudentDetails_final.csv\")"
   ]
  },
  {
   "cell_type": "code",
   "execution_count": 3,
   "id": "02da0640-f065-4e0e-9a3d-d3a45ea6fcae",
   "metadata": {},
   "outputs": [
    {
     "data": {
      "text/html": [
       "<div>\n",
       "<style scoped>\n",
       "    .dataframe tbody tr th:only-of-type {\n",
       "        vertical-align: middle;\n",
       "    }\n",
       "\n",
       "    .dataframe tbody tr th {\n",
       "        vertical-align: top;\n",
       "    }\n",
       "\n",
       "    .dataframe thead th {\n",
       "        text-align: right;\n",
       "    }\n",
       "</style>\n",
       "<table border=\"1\" class=\"dataframe\">\n",
       "  <thead>\n",
       "    <tr style=\"text-align: right;\">\n",
       "      <th></th>\n",
       "      <th>Name</th>\n",
       "      <th>Subject</th>\n",
       "      <th>Marks</th>\n",
       "    </tr>\n",
       "  </thead>\n",
       "  <tbody>\n",
       "    <tr>\n",
       "      <th>0</th>\n",
       "      <td>AnitaSharma</td>\n",
       "      <td>Data Structures</td>\n",
       "      <td>85.0</td>\n",
       "    </tr>\n",
       "    <tr>\n",
       "      <th>1</th>\n",
       "      <td>RahulVerma</td>\n",
       "      <td>Digital Circuits</td>\n",
       "      <td>78.0</td>\n",
       "    </tr>\n",
       "    <tr>\n",
       "      <th>2</th>\n",
       "      <td>PriyaMenon</td>\n",
       "      <td>Thermodynamics</td>\n",
       "      <td>91.0</td>\n",
       "    </tr>\n",
       "    <tr>\n",
       "      <th>3</th>\n",
       "      <td>Varun Iyer</td>\n",
       "      <td>Fluid Mechanics</td>\n",
       "      <td>74.0</td>\n",
       "    </tr>\n",
       "    <tr>\n",
       "      <th>4</th>\n",
       "      <td>Divya Nair</td>\n",
       "      <td>Algorithms</td>\n",
       "      <td>95.0</td>\n",
       "    </tr>\n",
       "  </tbody>\n",
       "</table>\n",
       "</div>"
      ],
      "text/plain": [
       "          Name           Subject  Marks\n",
       "0  AnitaSharma   Data Structures   85.0\n",
       "1   RahulVerma  Digital Circuits   78.0\n",
       "2   PriyaMenon    Thermodynamics   91.0\n",
       "3   Varun Iyer   Fluid Mechanics   74.0\n",
       "4   Divya Nair        Algorithms   95.0"
      ]
     },
     "metadata": {},
     "output_type": "display_data"
    }
   ],
   "source": [
    "display(df.head())"
   ]
  },
  {
   "cell_type": "code",
   "execution_count": 4,
   "id": "800770b6-15fb-41d0-a3bc-fe49962d1579",
   "metadata": {},
   "outputs": [
    {
     "name": "stdout",
     "output_type": "stream",
     "text": [
      "CSV Data Preview:\n",
      "          Name           Subject  Marks\n",
      "0  AnitaSharma   Data Structures   85.0\n",
      "1   RahulVerma  Digital Circuits   78.0\n",
      "2   PriyaMenon    Thermodynamics   91.0\n",
      "3   Varun Iyer   Fluid Mechanics   74.0\n",
      "4   Divya Nair        Algorithms   95.0\n"
     ]
    }
   ],
   "source": [
    "import pandas as pd\n",
    "import sqlite3\n",
    "\n",
    "\n",
    "csv_file = \"StudentDetails_final.csv\"\n",
    "df = pd.read_csv(csv_file)\n",
    "\n",
    "print(\"CSV Data Preview:\")\n",
    "print(df.head())\n",
    "\n",
    "conn = sqlite3.connect(\"students.db\")  \n",
    "cursor = conn.cursor()"
   ]
  },
  {
   "cell_type": "code",
   "execution_count": 5,
   "id": "9f7de2e7-8851-45e5-8f6a-cd1b52aa6c0b",
   "metadata": {},
   "outputs": [
    {
     "name": "stdout",
     "output_type": "stream",
     "text": [
      "\n",
      "✔ Data loaded into SQLite table 'students' successfully!\n"
     ]
    }
   ],
   "source": [
    "table_name = \"students\"\n",
    "df.to_sql(table_name, conn, if_exists=\"replace\", index=False)\n",
    "\n",
    "print(f\"\\n✔ Data loaded into SQLite table '{table_name}' successfully!\")"
   ]
  },
  {
   "cell_type": "code",
   "execution_count": 8,
   "id": "4d2c3ebb-a0f2-4dfc-8219-b924db146293",
   "metadata": {},
   "outputs": [
    {
     "name": "stdout",
     "output_type": "stream",
     "text": [
      "\n",
      "Top 3 Rows:\n",
      "          Name           Subject  Marks\n",
      "0  AnitaSharma   Data Structures   85.0\n",
      "1   RahulVerma  Digital Circuits   78.0\n",
      "2   PriyaMenon    Thermodynamics   91.0\n"
     ]
    }
   ],
   "source": [
    "query1 = f\"SELECT * FROM {table_name} LIMIT 3;\"\n",
    "result1 = pd.read_sql_query(query1, conn)\n",
    "print(\"\\nTop 3 Rows:\")\n",
    "print(result1)"
   ]
  },
  {
   "cell_type": "code",
   "execution_count": 10,
   "id": "0576c807-fae2-4054-a05f-01289211b86c",
   "metadata": {},
   "outputs": [],
   "source": [
    "query2 = f\"SELECT COUNT(*) as total_records FROM {table_name};\"\n",
    "result2 = pd.read_sql_query(query2, conn)\n",
    "\n"
   ]
  },
  {
   "cell_type": "code",
   "execution_count": 10,
   "id": "462759d3-eaf5-4745-bd45-159884d01e98",
   "metadata": {},
   "outputs": [
    {
     "data": {
      "text/html": [
       "<div>\n",
       "<style scoped>\n",
       "    .dataframe tbody tr th:only-of-type {\n",
       "        vertical-align: middle;\n",
       "    }\n",
       "\n",
       "    .dataframe tbody tr th {\n",
       "        vertical-align: top;\n",
       "    }\n",
       "\n",
       "    .dataframe thead th {\n",
       "        text-align: right;\n",
       "    }\n",
       "</style>\n",
       "<table border=\"1\" class=\"dataframe\">\n",
       "  <thead>\n",
       "    <tr style=\"text-align: right;\">\n",
       "      <th></th>\n",
       "      <th>total_records</th>\n",
       "    </tr>\n",
       "  </thead>\n",
       "  <tbody>\n",
       "    <tr>\n",
       "      <th>0</th>\n",
       "      <td>6</td>\n",
       "    </tr>\n",
       "  </tbody>\n",
       "</table>\n",
       "</div>"
      ],
      "text/plain": [
       "   total_records\n",
       "0              6"
      ]
     },
     "metadata": {},
     "output_type": "display_data"
    }
   ],
   "source": [
    "display(result2)"
   ]
  },
  {
   "cell_type": "code",
   "execution_count": 2,
   "id": "47bfee8a-af29-40cb-8daf-2cfdac2b2de5",
   "metadata": {},
   "outputs": [],
   "source": [
    "import pandas as pd\n",
    "import sqlite3\n",
    "\n",
    "conn = sqlite3.connect(\"students.db\")  # make sure this matches your database file\n"
   ]
  },
  {
   "cell_type": "code",
   "execution_count": 3,
   "id": "ad84e0f1-6a3a-415c-9f6a-b775779790c8",
   "metadata": {},
   "outputs": [],
   "source": [
    "table_name = \"students\""
   ]
  },
  {
   "cell_type": "code",
   "execution_count": 7,
   "id": "d8e8691c-394c-44e3-ab26-527c424b2cb9",
   "metadata": {},
   "outputs": [
    {
     "name": "stdout",
     "output_type": "stream",
     "text": [
      "         Name         Subject  Marks\n",
      "0  PriyaMenon  Thermodynamics   91.0\n",
      "1  Divya Nair      Algorithms   95.0\n"
     ]
    }
   ],
   "source": [
    "result = pd.read_sql_query(\"SELECT * FROM students WHERE Marks > 90;\", conn)\n",
    "print(result)\n"
   ]
  },
  {
   "cell_type": "code",
   "execution_count": 9,
   "id": "384d08a2-3767-4281-8554-4917647efa23",
   "metadata": {},
   "outputs": [
    {
     "data": {
      "text/html": [
       "<div>\n",
       "<style scoped>\n",
       "    .dataframe tbody tr th:only-of-type {\n",
       "        vertical-align: middle;\n",
       "    }\n",
       "\n",
       "    .dataframe tbody tr th {\n",
       "        vertical-align: top;\n",
       "    }\n",
       "\n",
       "    .dataframe thead th {\n",
       "        text-align: right;\n",
       "    }\n",
       "</style>\n",
       "<table border=\"1\" class=\"dataframe\">\n",
       "  <thead>\n",
       "    <tr style=\"text-align: right;\">\n",
       "      <th></th>\n",
       "      <th>Name</th>\n",
       "      <th>Subject</th>\n",
       "      <th>Marks</th>\n",
       "    </tr>\n",
       "  </thead>\n",
       "  <tbody>\n",
       "    <tr>\n",
       "      <th>0</th>\n",
       "      <td>AnitaSharma</td>\n",
       "      <td>Data Structures</td>\n",
       "      <td>85.0</td>\n",
       "    </tr>\n",
       "    <tr>\n",
       "      <th>1</th>\n",
       "      <td>RahulVerma</td>\n",
       "      <td>Digital Circuits</td>\n",
       "      <td>78.0</td>\n",
       "    </tr>\n",
       "    <tr>\n",
       "      <th>2</th>\n",
       "      <td>Varun Iyer</td>\n",
       "      <td>Fluid Mechanics</td>\n",
       "      <td>74.0</td>\n",
       "    </tr>\n",
       "    <tr>\n",
       "      <th>3</th>\n",
       "      <td>Arjun Singh</td>\n",
       "      <td>Microprocessors</td>\n",
       "      <td>81.0</td>\n",
       "    </tr>\n",
       "  </tbody>\n",
       "</table>\n",
       "</div>"
      ],
      "text/plain": [
       "          Name           Subject  Marks\n",
       "0  AnitaSharma   Data Structures   85.0\n",
       "1   RahulVerma  Digital Circuits   78.0\n",
       "2   Varun Iyer   Fluid Mechanics   74.0\n",
       "3  Arjun Singh   Microprocessors   81.0"
      ]
     },
     "metadata": {},
     "output_type": "display_data"
    }
   ],
   "source": [
    "display(pd.read_sql_query(\"Select * from students where Marks<87;\",conn))\n"
   ]
  },
  {
   "cell_type": "code",
   "execution_count": 11,
   "id": "a294b6df-e8af-4607-8d99-f0c09d7678a9",
   "metadata": {},
   "outputs": [],
   "source": [
    "import pandas as pd"
   ]
  },
  {
   "cell_type": "code",
   "execution_count": 12,
   "id": "efe3bb01-3d39-4d87-a6f2-c021c44cabd4",
   "metadata": {},
   "outputs": [],
   "source": [
    "import matplotlib.pyplot as plt"
   ]
  },
  {
   "cell_type": "code",
   "execution_count": 13,
   "id": "b4a57f5c-d36e-4022-b03c-a565aa720971",
   "metadata": {},
   "outputs": [],
   "source": [
    "df = pd.read_csv(\"StudentDetails_final.csv\")"
   ]
  },
  {
   "cell_type": "code",
   "execution_count": 14,
   "id": "046bf389-3f1e-42de-ad4e-b13514dd8548",
   "metadata": {},
   "outputs": [
    {
     "data": {
      "text/html": [
       "<div>\n",
       "<style scoped>\n",
       "    .dataframe tbody tr th:only-of-type {\n",
       "        vertical-align: middle;\n",
       "    }\n",
       "\n",
       "    .dataframe tbody tr th {\n",
       "        vertical-align: top;\n",
       "    }\n",
       "\n",
       "    .dataframe thead th {\n",
       "        text-align: right;\n",
       "    }\n",
       "</style>\n",
       "<table border=\"1\" class=\"dataframe\">\n",
       "  <thead>\n",
       "    <tr style=\"text-align: right;\">\n",
       "      <th></th>\n",
       "      <th>Name</th>\n",
       "      <th>Subject</th>\n",
       "      <th>Marks</th>\n",
       "    </tr>\n",
       "  </thead>\n",
       "  <tbody>\n",
       "    <tr>\n",
       "      <th>0</th>\n",
       "      <td>AnitaSharma</td>\n",
       "      <td>Data Structures</td>\n",
       "      <td>85.0</td>\n",
       "    </tr>\n",
       "    <tr>\n",
       "      <th>1</th>\n",
       "      <td>RahulVerma</td>\n",
       "      <td>Digital Circuits</td>\n",
       "      <td>78.0</td>\n",
       "    </tr>\n",
       "    <tr>\n",
       "      <th>2</th>\n",
       "      <td>PriyaMenon</td>\n",
       "      <td>Thermodynamics</td>\n",
       "      <td>91.0</td>\n",
       "    </tr>\n",
       "    <tr>\n",
       "      <th>3</th>\n",
       "      <td>Varun Iyer</td>\n",
       "      <td>Fluid Mechanics</td>\n",
       "      <td>74.0</td>\n",
       "    </tr>\n",
       "    <tr>\n",
       "      <th>4</th>\n",
       "      <td>Divya Nair</td>\n",
       "      <td>Algorithms</td>\n",
       "      <td>95.0</td>\n",
       "    </tr>\n",
       "  </tbody>\n",
       "</table>\n",
       "</div>"
      ],
      "text/plain": [
       "          Name           Subject  Marks\n",
       "0  AnitaSharma   Data Structures   85.0\n",
       "1   RahulVerma  Digital Circuits   78.0\n",
       "2   PriyaMenon    Thermodynamics   91.0\n",
       "3   Varun Iyer   Fluid Mechanics   74.0\n",
       "4   Divya Nair        Algorithms   95.0"
      ]
     },
     "metadata": {},
     "output_type": "display_data"
    }
   ],
   "source": [
    "display(df.head())"
   ]
  },
  {
   "cell_type": "code",
   "execution_count": 16,
   "id": "7016206f-100b-4bcc-8bb5-d36ca4fd7783",
   "metadata": {},
   "outputs": [
    {
     "name": "stdout",
     "output_type": "stream",
     "text": [
      "<class 'pandas.core.frame.DataFrame'>\n",
      "RangeIndex: 6 entries, 0 to 5\n",
      "Data columns (total 3 columns):\n",
      " #   Column   Non-Null Count  Dtype  \n",
      "---  ------   --------------  -----  \n",
      " 0   Name     6 non-null      object \n",
      " 1   Subject  6 non-null      object \n",
      " 2   Marks    6 non-null      float64\n",
      "dtypes: float64(1), object(2)\n",
      "memory usage: 276.0+ bytes\n"
     ]
    },
    {
     "data": {
      "text/plain": [
       "None"
      ]
     },
     "metadata": {},
     "output_type": "display_data"
    }
   ],
   "source": [
    "display(df.info())"
   ]
  },
  {
   "cell_type": "code",
   "execution_count": 17,
   "id": "156d8939-ce2f-4524-8d26-208a1cbf2f49",
   "metadata": {},
   "outputs": [
    {
     "data": {
      "text/plain": [
       "Name       0\n",
       "Subject    0\n",
       "Marks      0\n",
       "dtype: int64"
      ]
     },
     "metadata": {},
     "output_type": "display_data"
    }
   ],
   "source": [
    "display(df.isna().sum())"
   ]
  },
  {
   "cell_type": "code",
   "execution_count": 18,
   "id": "5ed40af0-3c44-49cc-ade3-bbc4e04441f2",
   "metadata": {},
   "outputs": [
    {
     "data": {
      "text/html": [
       "<div>\n",
       "<style scoped>\n",
       "    .dataframe tbody tr th:only-of-type {\n",
       "        vertical-align: middle;\n",
       "    }\n",
       "\n",
       "    .dataframe tbody tr th {\n",
       "        vertical-align: top;\n",
       "    }\n",
       "\n",
       "    .dataframe thead th {\n",
       "        text-align: right;\n",
       "    }\n",
       "</style>\n",
       "<table border=\"1\" class=\"dataframe\">\n",
       "  <thead>\n",
       "    <tr style=\"text-align: right;\">\n",
       "      <th></th>\n",
       "      <th>Marks</th>\n",
       "    </tr>\n",
       "  </thead>\n",
       "  <tbody>\n",
       "    <tr>\n",
       "      <th>count</th>\n",
       "      <td>6.000000</td>\n",
       "    </tr>\n",
       "    <tr>\n",
       "      <th>mean</th>\n",
       "      <td>84.000000</td>\n",
       "    </tr>\n",
       "    <tr>\n",
       "      <th>std</th>\n",
       "      <td>7.949843</td>\n",
       "    </tr>\n",
       "    <tr>\n",
       "      <th>min</th>\n",
       "      <td>74.000000</td>\n",
       "    </tr>\n",
       "    <tr>\n",
       "      <th>25%</th>\n",
       "      <td>78.750000</td>\n",
       "    </tr>\n",
       "    <tr>\n",
       "      <th>50%</th>\n",
       "      <td>83.000000</td>\n",
       "    </tr>\n",
       "    <tr>\n",
       "      <th>75%</th>\n",
       "      <td>89.500000</td>\n",
       "    </tr>\n",
       "    <tr>\n",
       "      <th>max</th>\n",
       "      <td>95.000000</td>\n",
       "    </tr>\n",
       "  </tbody>\n",
       "</table>\n",
       "</div>"
      ],
      "text/plain": [
       "           Marks\n",
       "count   6.000000\n",
       "mean   84.000000\n",
       "std     7.949843\n",
       "min    74.000000\n",
       "25%    78.750000\n",
       "50%    83.000000\n",
       "75%    89.500000\n",
       "max    95.000000"
      ]
     },
     "metadata": {},
     "output_type": "display_data"
    }
   ],
   "source": [
    "display(df.describe())"
   ]
  },
  {
   "cell_type": "code",
   "execution_count": 19,
   "id": "df21c9ac-5887-4804-9899-4c3d3cce95f5",
   "metadata": {},
   "outputs": [],
   "source": [
    "num_cols = df.select_dtypes(include=\"number\").columns"
   ]
  },
  {
   "cell_type": "code",
   "execution_count": 20,
   "id": "ad2b92f8-4253-42f8-b7a5-a9296a0df606",
   "metadata": {},
   "outputs": [],
   "source": [
    "means={}"
   ]
  },
  {
   "cell_type": "code",
   "execution_count": 22,
   "id": "160daf38-4985-438a-bc50-a4aeb32750f2",
   "metadata": {},
   "outputs": [
    {
     "name": "stdout",
     "output_type": "stream",
     "text": [
      "\n",
      " Column means (manual loop):\n"
     ]
    }
   ],
   "source": [
    "i = 0\n",
    "while i<len(num_cols):\n",
    "    col = num_cols[i]\n",
    "    means[col] = df[col].mean()\n",
    "    i+=1\n",
    "    print(\"\\n Column means (manual loop):\")"
   ]
  },
  {
   "cell_type": "code",
   "execution_count": 23,
   "id": "ef9a851f-316b-4165-9cc0-9a363f1d4885",
   "metadata": {},
   "outputs": [
    {
     "data": {
      "text/plain": [
       "'  Marks               ->84.000'"
      ]
     },
     "metadata": {},
     "output_type": "display_data"
    }
   ],
   "source": [
    "for k,v in means.items():\n",
    "    display(f\"  {k:<20s}->{v:,.3f}\")"
   ]
  },
  {
   "cell_type": "code",
   "execution_count": 24,
   "id": "875d2eb9-7567-4097-9028-59291ef162fd",
   "metadata": {},
   "outputs": [
    {
     "data": {
      "image/png": "[encoded data removed]",
      "text/plain": [
       "<Figure size 1200x600 with 1 Axes>"
      ]
     },
     "metadata": {},
     "output_type": "display_data"
    }
   ],
   "source": [
    "plt.style.use(\"ggplot\")\n",
    "df[num_cols].hist(figsize=(12,6))\n",
    "plt.suptitle(\"Histograms of numeric features\")\n",
    "plt.tight_layout()\n",
    "plt.show()"
   ]
  },
  {
   "cell_type": "code",
   "execution_count": 28,
   "id": "8f84103e-2ea7-4ed4-9082-d828b13b8ad7",
   "metadata": {},
   "outputs": [
    {
     "data": {
      "image/png": "[encoded data removed]",
      "text/plain": [
       "<Figure size 800x600 with 2 Axes>"
      ]
     },
     "metadata": {},
     "output_type": "display_data"
    }
   ],
   "source": [
    "plt.figure(figsize=(8,6))\n",
    "plt.imshow(df[num_cols].corr(),aspect=\"auto\")\n",
    "plt.colorbar(label=\"Correlation\")\n",
    "plt.xticks(range(len(num_cols)),num_cols,rotation=45, ha=\"right\")\n",
    "plt.yticks(range(len(num_cols)), num_cols)\n",
    "plt.title(\"Correlation matrix\")\n",
    "plt.tight_layout()\n",
    "plt.show()\n"
   ]
  },
  {
   "cell_type": "code",
   "execution_count": 30,
   "id": "eb242cd8-0459-4058-9381-677941ab1700",
   "metadata": {},
   "outputs": [],
   "source": [
    "if len(num_cols) >= 2:\n",
    "    x, y = num_cols[:2]\n",
    "    plt.figure(figsize=(6, 4))\n",
    "    plt.scatter(df[x], df[y], alpha=0.7)\n",
    "    plt.xlabel(x)\n",
    "    plt.ylabel(y)\n",
    "    plt.title(f\"Scatter plot: {x} vs {y}\")\n",
    "    plt.tight_layout()\n",
    "    plt.show()"
   ]
  },
  {
   "cell_type": "code",
   "execution_count": null,
   "id": "5c482d55-65ef-4828-87bf-143bd4c1119a",
   "metadata": {},
   "outputs": [],
   "source": []
  }
 ],
 "metadata": {
  "kernelspec": {
   "display_name": "anaconda-panel-2023.05-py310",
   "language": "python",
   "name": "conda-env-anaconda-panel-2023.05-py310-py"
  },
  "language_info": {
   "codemirror_mode": {
    "name": "ipython",
    "version": 3
   },
   "file_extension": ".py",
   "mimetype": "text/x-python",
   "name": "python",
   "nbconvert_exporter": "python",
   "pygments_lexer": "ipython3",
   "version": "3.11.5"
  }
 },
 "nbformat": 4,
 "nbformat_minor": 5
}
